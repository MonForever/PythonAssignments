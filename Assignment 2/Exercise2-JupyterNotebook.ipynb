{
  "nbformat": 4,
  "nbformat_minor": 0,
  "metadata": {
    "colab": {
      "provenance": [],
      "collapsed_sections": []
    },
    "kernelspec": {
      "name": "python3",
      "display_name": "Python 3"
    },
    "language_info": {
      "name": "python"
    }
  },
  "cells": [
    {
      "cell_type": "code",
      "execution_count": null,
      "metadata": {
        "id": "CIG1LabZVI03"
      },
      "outputs": [],
      "source": [
        "#Please find the references used, different trials and steps in the attached .ipynb file\n",
        "#https://drive.google.com/file/d/1eiLafvqj7soQyBdQ4jKu1NEP8a15KheS/view?usp=sharing\n",
        "\n",
        "import itertools\n",
        "import math\n",
        "#Time complexity of the program is O(N)\n",
        "#Loops through the array of  n points, hence O(N)\n",
        "def findIfASquare(points):\n",
        "  points = list(itertools.combinations(points,4))\n",
        "  count = 0\n",
        "  for i in points:\n",
        "    resultDist, resultSlope = squaredDistance(i)\n",
        "    #print(resultDist)\n",
        "    #print(resultSlope)\n",
        "     #the four sides of a square must be equal and the the length of the two diagonals must be equal.\n",
        "    if (resultDist[0]==resultDist[1]==resultDist[2]==resultDist[3]) and (resultDist[4]==resultDist[5]):\n",
        "      #for a side of a square to be parallel to x-axis, its slope has to be zero. For a side of a square to be parallel to y-axis its slope must be equal to infinity. Here, I have appeneded zero instead of infinity.\n",
        "      #we have already tested if its a square. If its a sqaure, the slope of its diagonals will not be zero. So then, testing if two the sides has a slope of zero.\n",
        "      if(resultSlope.count(0)>=1):\n",
        "        count+=1\n",
        "  return count\n",
        "\n",
        "def squaredDistance(i):\n",
        "  d = list(itertools.combinations(i,2)) \n",
        "  #print(d)\n",
        "  distances = [] \n",
        "  slopes = []\n",
        "  for i in d:\n",
        "    x1=i[0][0]\n",
        "    x2=i[1][0]\n",
        "    y1=i[0][1]\n",
        "    y2=i[1][1]\n",
        "    dist = (x2-x1)**2 + (y2 - y1)**2\n",
        "    distances.append(dist)\n",
        "   \n",
        "\n",
        "    if (x2==x1): #cause it will return infinity, so instead of infinity appending zero\n",
        "      slopes.append(0)\n",
        "    else:\n",
        "      slopes.append((y2-y1)//(x2-x1))\n",
        "      \n",
        "  return sorted(distances), sorted(slopes)\n",
        "\n",
        "pointsList = [[0,0],[0,1],[1,1],[1,0],[2,1],[2,0],[3,1],[3,0]]\n",
        "print('No: of Squares with sides parallel to x-axis and y-axis is:', findIfASquare(pointsList))"
      ]
    }
  ]
}