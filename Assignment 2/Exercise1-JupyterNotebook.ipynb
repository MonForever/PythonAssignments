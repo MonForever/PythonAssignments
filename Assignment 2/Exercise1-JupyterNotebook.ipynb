{
  "nbformat": 4,
  "nbformat_minor": 0,
  "metadata": {
    "colab": {
      "provenance": [],
      "collapsed_sections": []
    },
    "kernelspec": {
      "name": "python3",
      "display_name": "Python 3"
    },
    "language_info": {
      "name": "python"
    }
  },
  "cells": [
    {
      "cell_type": "code",
      "execution_count": 2,
      "metadata": {
        "colab": {
          "base_uri": "https://localhost:8080/"
        },
        "id": "T2sxxyi1OQ9Q",
        "outputId": "d79dad2d-fe8a-4d17-8b88-4d5312f9c2c7"
      },
      "outputs": [
        {
          "output_type": "stream",
          "name": "stdout",
          "text": [
            "please enter the batch size: 10\n",
            "Patient: p1 was tested on 31-08-22\n",
            "Patient: p11 was tested on 31-08-22\n"
          ]
        }
      ],
      "source": [
        "#Please find the references used, different trials and steps in the attached .ipynb file\n",
        "#https://drive.google.com/file/d/1i44niU2RR0hhr3zgS2oExe2HvqeGE2ZB/view?usp=sharing\n",
        "from datetime import datetime\n",
        "import random\n",
        "#Kindly change the input accordingly\n",
        "people = ['p1','p2','p3','p4','p5','p6','p7','p8','p9','p10','p11','p12','p13','p14','p15',\n",
        "'p16','p17','p18','p19','p20']\n",
        "# size=3;\n",
        "# test = random.choice(recovered_person_list)\n",
        "# print(test)\n",
        "\n",
        "class covidTesting:\n",
        "\n",
        "   def __init__(self, recovered_people_list, batchsize):\n",
        "        self.batchsize=batchsize\n",
        "        self.recovered_people_list = recovered_people_list\n",
        "\n",
        "   def randomTesting(self):\n",
        "    #  my_dict = {\"Name\":[],\"Address\":[],\"Age\":[]};\n",
        "    # self.peopleTestedData = {\"PatientName\":[], \"DateOfTesting\":[]}\n",
        "    self.recoveredPatientsDict = {}\n",
        "      \n",
        "    #peopleTestedData = []\n",
        "    #peopleTestedDate = []\n",
        "    #Looping through the patient list and breaking it up into batches with the batch size input\n",
        "    #And generating random patient for each batch\n",
        "    for i in range(0, len(people), size ):\n",
        "      \n",
        "      ListPatient = people[i : (i+size)]\n",
        "      \n",
        "      personToBeTested = random.choice(ListPatient)\n",
        "      TestDate=datetime.today().strftime('%Y-%m-%d')\n",
        "      self.recoveredPatientsDict[\"\".join(personToBeTested)] = datetime.today().strftime('%d-%m-%y')\n",
        "     \n",
        "#Space complexity for creating a dictionary is O(N)\n",
        "#Time complexity in retrive data from a dictionary is O(1)\n",
        "    for key, value in self.recoveredPatientsDict.items():\n",
        "        print(\"Patient:\",key,\"was tested on\",value)\n",
        " \n",
        "\n",
        "if __name__ == \"__main__\":\n",
        "    size = int(input(\"please enter the batch size: \"))\n",
        "    \n",
        "TestObject = covidTesting(people,size)\n",
        "TestObject.randomTesting()"
      ]
    }
  ]
}