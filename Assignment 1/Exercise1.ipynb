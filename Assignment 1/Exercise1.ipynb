{
  "nbformat": 4,
  "nbformat_minor": 0,
  "metadata": {
    "colab": {
      "provenance": []
    },
    "kernelspec": {
      "name": "python3",
      "display_name": "Python 3"
    },
    "language_info": {
      "name": "python"
    }
  },
  "cells": [
    {
      "cell_type": "code",
      "execution_count": 1,
      "metadata": {
        "colab": {
          "base_uri": "https://localhost:8080/"
        },
        "id": "cUdLs09aCw8_",
        "outputId": "2380b8db-3780-41cc-a323-edfae02ae545"
      },
      "outputs": [
        {
          "output_type": "stream",
          "name": "stdout",
          "text": [
            "Meeting can be scheduled during: [['11:30', '12:00'], ['15:00', '16:00'], ['18:00', '18:30']]\n"
          ]
        }
      ],
      "source": [
        "#Please find the references used, different trials and steps in the below .ipynb file\n",
        "#https://drive.google.com/file/d/1Gd4p3uAPFRSC-LXcxykRIJezOn_IlkLg/view?usp=sharing\n",
        "\n",
        "from datetime import datetime\n",
        "\n",
        "#Kindly change the input accordingly\n",
        "person1_calendar=[['9:00','10:30'],['12:00','13:00'],['16:00','18:00']]\n",
        "person2_calendar=[['10:00','11:30'],['12:30','14:30'],['14:30','15:00'],['16:00','17:00']]\n",
        "working_hours_person1=['9:00', '20:00']\n",
        "working_hours_person2=['10:00', '18:30']\n",
        "duration_of_meeting = 30\n",
        "\n",
        "#Calculating the free time of the two people\n",
        "def availability(working_hours, meeting_schedule, meetingDuration):\n",
        "    availableTime=[]\n",
        "   \n",
        "    work_start = datetime.strptime(working_hours[0], \"%H:%M\")\n",
        "    work_end = datetime.strptime(working_hours[1], \"%H:%M\")\n",
        "    schedule_start = datetime.strptime(meeting_schedule[0][0], \"%H:%M\")\n",
        "    schedule_end = datetime.strptime(meeting_schedule[(len(meeting_schedule)-1)][1], \"%H:%M\" )\n",
        "\n",
        "\n",
        "    #Taking the time difference between a person's shift start and their first meeting and Taking the difference between a person's last meeting and their shift end\n",
        "    #and if this difference of duration is equal or greater than the duration of the meeting that we want schedule, then taking it as free time.\n",
        "    earliest_meeting_start = (work_start-schedule_start).seconds/60\n",
        "    latest_meeting_end = (work_end-schedule_end).seconds/60\n",
        "    if earliest_meeting_start >=float(meetingDuration):\n",
        "        availableTime.append([working_hours[0],meeting_schedule[0][0]])\n",
        "   \n",
        "    if latest_meeting_end >=float(meetingDuration):\n",
        "        availableTime.append([meeting_schedule[(len(meeting_schedule)-1)][1], working_hours[1]])\n",
        "\n",
        "    #finding the time difference between the end of the first meeting and the start of the next meeting\n",
        "    #Time complexity as it loops through a list with one for loop is 0(n)\n",
        "    for i in range(len(meeting_schedule)-1):\n",
        "        if ((datetime.strptime(meeting_schedule[i+1][0],\"%H:%M\")-datetime.strptime(meeting_schedule[i][1],\"%H:%M\")).seconds/60) >= float(meetingDuration):\n",
        "            availableTime.append([meeting_schedule[i][1],meeting_schedule[i+1][0]])\n",
        "    return availableTime\n",
        "\n",
        "freetime_person1=availability(working_hours_person1,person1_calendar,duration_of_meeting)\n",
        "freetime_person2=availability(working_hours_person2,person2_calendar,duration_of_meeting)\n",
        "\n",
        "#Taking the maximum of the starttime and minimum of the end time\n",
        "#Time Complexity for the below loop is O(n2)\n",
        "def find_meeting_slots(availability_person1,availability_person2, meetingDuration):\n",
        "  availability_for_meeting=[]\n",
        "  final_availability=[]\n",
        "  for i in range(len(availability_person1)):\n",
        "    for j in range(len(availability_person2)):\n",
        "      maxTime = max(availability_person1[i][0], availability_person2[j][0])\n",
        "      minTime=min(availability_person1[i][1], availability_person2[j][1])\n",
        "      availability_for_meeting.append([maxTime,minTime])\n",
        "      \n",
        " #Taking only the valid entries \n",
        " # and then calculation if the time difference between the start and end time is greater than the required meeting duration\n",
        " #Time complexity for the below logic would be O(n)\n",
        " #Space complexity for creating a list of O(n2)\n",
        "  for i in range(len(availability_for_meeting)):\n",
        "      if datetime.strptime(availability_for_meeting[i][0],\"%H:%M\") < datetime.strptime(availability_for_meeting[i][1],\"%H:%M\"):\n",
        "        if ((datetime.strptime(availability_for_meeting[i][1],\"%H:%M\")-datetime.strptime(availability_for_meeting[i][0],\"%H:%M\")).seconds/60) >= float(duration_of_meeting) :\n",
        "         final_availability.append([availability_for_meeting[i][0],availability_for_meeting[i][1]])\n",
        "  return final_availability\n",
        "                   \n",
        "freetime = find_meeting_slots(freetime_person1,freetime_person2,duration_of_meeting)\n",
        "print('Meeting can be scheduled during:',sorted(freetime))\n",
        "\n",
        "\n",
        "\n",
        "\n",
        " \n",
        "  \n",
        "  \n",
        "  \n",
        "  \n",
        "  \n",
        "\n"
      ]
    }
  ]
}