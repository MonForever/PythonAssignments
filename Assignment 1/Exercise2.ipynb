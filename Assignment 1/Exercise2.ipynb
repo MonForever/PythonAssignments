{
  "nbformat": 4,
  "nbformat_minor": 0,
  "metadata": {
    "colab": {
      "provenance": []
    },
    "kernelspec": {
      "name": "python3",
      "display_name": "Python 3"
    },
    "language_info": {
      "name": "python"
    }
  },
  "cells": [
    {
      "cell_type": "code",
      "execution_count": 1,
      "metadata": {
        "colab": {
          "base_uri": "https://localhost:8080/"
        },
        "id": "mzyXvSIADPLf",
        "outputId": "0077aa97-8938-4555-8b1f-756e0d61aef7"
      },
      "outputs": [
        {
          "output_type": "stream",
          "name": "stdout",
          "text": [
            "The increasing sequence with which the disks can be stacked for maximum height is: [[4, 4, 5], [3, 2, 3], [2, 1, 2]]\n"
          ]
        }
      ],
      "source": [
        "#Please find the different trials and steps tried in the below .ipynb file\n",
        "#https://drive.google.com/file/d/12qEpBNYuUEa2ONh9qUa5lJxs9xP3KRNH/view?usp=sharing\n",
        "\n",
        "#Kindly change the input accordingly\n",
        "input_array=[[2, 1, 2], [3, 2, 3], [2, 2, 8], [2, 3, 4], [1, 3, 1], [4, 4, 5]]\n",
        "#sorting the input array by any one element, so we know all the elements to a left of the array only need to be evaluated for lesser than condition. As esch disk has to be smaller than all other disks below it\n",
        "sortedArray = sorted(input_array, key=lambda x: int(x[2]))\n",
        "#print(sortedArray)\n",
        "#print((len(sortedArray)-1))\n",
        "#print(x)\n",
        "#creating a list of only the heights. \n",
        "#This will be used to find out the maximum possible height in the end.\n",
        "\n",
        "listOfHeights = []\n",
        "for i in range(0,len(sortedArray)):\n",
        "  listOfHeights = [i[2] for i in sortedArray]\n",
        "#print(listOfHeights)\n",
        "#iterating through the array and storing the maximum height at each position\n",
        "for i in range(0,len(sortedArray)):\n",
        "  for j in range(0,len(sortedArray)):\n",
        "    if((sortedArray[j][0]<sortedArray[i][0]) and (sortedArray[j][1]<sortedArray[i][1]) and (sortedArray[j][2]<sortedArray[i][2])):\n",
        "      listOfHeights[i] = max(listOfHeights[i], listOfHeights[j]+sortedArray[i][2])\n",
        "#print(listOfHeights)\n",
        "\n",
        "#finding the list index where the maximum height is present\n",
        "maximumHeight=0\n",
        "for i in range(0,len(sortedArray)):\n",
        "  maximumHeight=max(maximumHeight, listOfHeights[i])\n",
        "locationOfMaximumHeight=0\n",
        "for i in range(0,len(sortedArray)):\n",
        "  #print(listOfHeights[i])\n",
        "  if listOfHeights[i]==maximumHeight:\n",
        "    locationOfMaximumHeight = i\n",
        "#creating an array to store the series that contributes to the maximum height. \n",
        "#If a particular location has value other than -1, then the set of elements contrubuting to that height is current element from sortedArray and the element at the index in the series array on top of it.\n",
        "storing_order = [-1 for i in range (0, len(sortedArray))]\n",
        "\n",
        "\n",
        "#Time Complexity for this program is O(n2) as the main function loops through twice and the other \n",
        "#The space complexity is O(n)\n",
        "\n",
        "#iterating through the array and storing the maximum height at each position\n",
        "for i in range(1,len(sortedArray)):\n",
        "  for j in range(0,i):\n",
        "    if((sortedArray[j][0]<sortedArray[i][0]) and (sortedArray[j][1]<sortedArray[i][1]) and (sortedArray[j][2]<sortedArray[i][2])):\n",
        "      if (listOfHeights[i] <= listOfHeights[j]+sortedArray[i][2]):\n",
        "          listOfHeights[i] = listOfHeights[j]+sortedArray[i][2]\n",
        "          storing_order[i]=j\n",
        "\n",
        "def finalStackOfDisks(input_disk_array, hightest_order_sequence, maximumHeightPosition):\n",
        "  setOfDiscs=[]\n",
        "  #we have stored the heights in an array, we have the position of the maximum height in this array. In a separate list, we have stored - what would be the index of the disk above this disk. \n",
        "  #first appending the current location, then updating the index to reflect the disk above it.\n",
        "  while maximumHeightPosition != -1:\n",
        "    setOfDiscs.append(input_disk_array[maximumHeightPosition])\n",
        "    maximumHeightPosition=hightest_order_sequence[maximumHeightPosition]\n",
        "  return(list(setOfDiscs))\n",
        "\n",
        "print('The increasing sequence with which the disks can be stacked for maximum height is:',finalStackOfDisks(sortedArray,storing_order,locationOfMaximumHeight))\n",
        "\n",
        "\n",
        "\n"
      ]
    }
  ]
}